{
  "cells": [
    {
      "cell_type": "markdown",
      "metadata": {
        "id": "view-in-github",
        "colab_type": "text"
      },
      "source": [
        "<a href=\"https://colab.research.google.com/github/ladybuglady/Contrastive-Predictive-Coding-PyTorch/blob/master/SSL_ECG_feature_extraction.ipynb\" target=\"_parent\"><img src=\"https://colab.research.google.com/assets/colab-badge.svg\" alt=\"Open In Colab\"/></a>"
      ]
    },
    {
      "cell_type": "markdown",
      "metadata": {
        "id": "YgRUZdFRfc_X"
      },
      "source": [
        "# ECG feature extraction using SAVER's self-supervised learning model"
      ]
    },
    {
      "cell_type": "code",
      "source": [
        "from google.colab import drive\n",
        "drive.mount('/content/drive')"
      ],
      "metadata": {
        "colab": {
          "base_uri": "https://localhost:8080/",
          "height": 351
        },
        "id": "Ty9LqM9Efhl1",
        "outputId": "d5ec2b01-b9bb-4f00-b02e-319b12b1e813"
      },
      "execution_count": 1,
      "outputs": [
        {
          "output_type": "error",
          "ename": "MessageError",
          "evalue": "Error: credential propagation was unsuccessful",
          "traceback": [
            "\u001b[0;31m---------------------------------------------------------------------------\u001b[0m",
            "\u001b[0;31mMessageError\u001b[0m                              Traceback (most recent call last)",
            "\u001b[0;32m<ipython-input-1-d5df0069828e>\u001b[0m in \u001b[0;36m<cell line: 2>\u001b[0;34m()\u001b[0m\n\u001b[1;32m      1\u001b[0m \u001b[0;32mfrom\u001b[0m \u001b[0mgoogle\u001b[0m\u001b[0;34m.\u001b[0m\u001b[0mcolab\u001b[0m \u001b[0;32mimport\u001b[0m \u001b[0mdrive\u001b[0m\u001b[0;34m\u001b[0m\u001b[0;34m\u001b[0m\u001b[0m\n\u001b[0;32m----> 2\u001b[0;31m \u001b[0mdrive\u001b[0m\u001b[0;34m.\u001b[0m\u001b[0mmount\u001b[0m\u001b[0;34m(\u001b[0m\u001b[0;34m'/content/drive'\u001b[0m\u001b[0;34m)\u001b[0m\u001b[0;34m\u001b[0m\u001b[0;34m\u001b[0m\u001b[0m\n\u001b[0m",
            "\u001b[0;32m/usr/local/lib/python3.10/dist-packages/google/colab/drive.py\u001b[0m in \u001b[0;36mmount\u001b[0;34m(mountpoint, force_remount, timeout_ms, readonly)\u001b[0m\n\u001b[1;32m     98\u001b[0m \u001b[0;32mdef\u001b[0m \u001b[0mmount\u001b[0m\u001b[0;34m(\u001b[0m\u001b[0mmountpoint\u001b[0m\u001b[0;34m,\u001b[0m \u001b[0mforce_remount\u001b[0m\u001b[0;34m=\u001b[0m\u001b[0;32mFalse\u001b[0m\u001b[0;34m,\u001b[0m \u001b[0mtimeout_ms\u001b[0m\u001b[0;34m=\u001b[0m\u001b[0;36m120000\u001b[0m\u001b[0;34m,\u001b[0m \u001b[0mreadonly\u001b[0m\u001b[0;34m=\u001b[0m\u001b[0;32mFalse\u001b[0m\u001b[0;34m)\u001b[0m\u001b[0;34m:\u001b[0m\u001b[0;34m\u001b[0m\u001b[0;34m\u001b[0m\u001b[0m\n\u001b[1;32m     99\u001b[0m   \u001b[0;34m\"\"\"Mount your Google Drive at the specified mountpoint path.\"\"\"\u001b[0m\u001b[0;34m\u001b[0m\u001b[0;34m\u001b[0m\u001b[0m\n\u001b[0;32m--> 100\u001b[0;31m   return _mount(\n\u001b[0m\u001b[1;32m    101\u001b[0m       \u001b[0mmountpoint\u001b[0m\u001b[0;34m,\u001b[0m\u001b[0;34m\u001b[0m\u001b[0;34m\u001b[0m\u001b[0m\n\u001b[1;32m    102\u001b[0m       \u001b[0mforce_remount\u001b[0m\u001b[0;34m=\u001b[0m\u001b[0mforce_remount\u001b[0m\u001b[0;34m,\u001b[0m\u001b[0;34m\u001b[0m\u001b[0;34m\u001b[0m\u001b[0m\n",
            "\u001b[0;32m/usr/local/lib/python3.10/dist-packages/google/colab/drive.py\u001b[0m in \u001b[0;36m_mount\u001b[0;34m(mountpoint, force_remount, timeout_ms, ephemeral, readonly)\u001b[0m\n\u001b[1;32m    127\u001b[0m   )\n\u001b[1;32m    128\u001b[0m   \u001b[0;32mif\u001b[0m \u001b[0mephemeral\u001b[0m\u001b[0;34m:\u001b[0m\u001b[0;34m\u001b[0m\u001b[0;34m\u001b[0m\u001b[0m\n\u001b[0;32m--> 129\u001b[0;31m     _message.blocking_request(\n\u001b[0m\u001b[1;32m    130\u001b[0m         \u001b[0;34m'request_auth'\u001b[0m\u001b[0;34m,\u001b[0m \u001b[0mrequest\u001b[0m\u001b[0;34m=\u001b[0m\u001b[0;34m{\u001b[0m\u001b[0;34m'authType'\u001b[0m\u001b[0;34m:\u001b[0m \u001b[0;34m'dfs_ephemeral'\u001b[0m\u001b[0;34m}\u001b[0m\u001b[0;34m,\u001b[0m \u001b[0mtimeout_sec\u001b[0m\u001b[0;34m=\u001b[0m\u001b[0;32mNone\u001b[0m\u001b[0;34m\u001b[0m\u001b[0;34m\u001b[0m\u001b[0m\n\u001b[1;32m    131\u001b[0m     )\n",
            "\u001b[0;32m/usr/local/lib/python3.10/dist-packages/google/colab/_message.py\u001b[0m in \u001b[0;36mblocking_request\u001b[0;34m(request_type, request, timeout_sec, parent)\u001b[0m\n\u001b[1;32m    174\u001b[0m       \u001b[0mrequest_type\u001b[0m\u001b[0;34m,\u001b[0m \u001b[0mrequest\u001b[0m\u001b[0;34m,\u001b[0m \u001b[0mparent\u001b[0m\u001b[0;34m=\u001b[0m\u001b[0mparent\u001b[0m\u001b[0;34m,\u001b[0m \u001b[0mexpect_reply\u001b[0m\u001b[0;34m=\u001b[0m\u001b[0;32mTrue\u001b[0m\u001b[0;34m\u001b[0m\u001b[0;34m\u001b[0m\u001b[0m\n\u001b[1;32m    175\u001b[0m   )\n\u001b[0;32m--> 176\u001b[0;31m   \u001b[0;32mreturn\u001b[0m \u001b[0mread_reply_from_input\u001b[0m\u001b[0;34m(\u001b[0m\u001b[0mrequest_id\u001b[0m\u001b[0;34m,\u001b[0m \u001b[0mtimeout_sec\u001b[0m\u001b[0;34m)\u001b[0m\u001b[0;34m\u001b[0m\u001b[0;34m\u001b[0m\u001b[0m\n\u001b[0m",
            "\u001b[0;32m/usr/local/lib/python3.10/dist-packages/google/colab/_message.py\u001b[0m in \u001b[0;36mread_reply_from_input\u001b[0;34m(message_id, timeout_sec)\u001b[0m\n\u001b[1;32m    101\u001b[0m     ):\n\u001b[1;32m    102\u001b[0m       \u001b[0;32mif\u001b[0m \u001b[0;34m'error'\u001b[0m \u001b[0;32min\u001b[0m \u001b[0mreply\u001b[0m\u001b[0;34m:\u001b[0m\u001b[0;34m\u001b[0m\u001b[0;34m\u001b[0m\u001b[0m\n\u001b[0;32m--> 103\u001b[0;31m         \u001b[0;32mraise\u001b[0m \u001b[0mMessageError\u001b[0m\u001b[0;34m(\u001b[0m\u001b[0mreply\u001b[0m\u001b[0;34m[\u001b[0m\u001b[0;34m'error'\u001b[0m\u001b[0;34m]\u001b[0m\u001b[0;34m)\u001b[0m\u001b[0;34m\u001b[0m\u001b[0;34m\u001b[0m\u001b[0m\n\u001b[0m\u001b[1;32m    104\u001b[0m       \u001b[0;32mreturn\u001b[0m \u001b[0mreply\u001b[0m\u001b[0;34m.\u001b[0m\u001b[0mget\u001b[0m\u001b[0;34m(\u001b[0m\u001b[0;34m'data'\u001b[0m\u001b[0;34m,\u001b[0m \u001b[0;32mNone\u001b[0m\u001b[0;34m)\u001b[0m\u001b[0;34m\u001b[0m\u001b[0;34m\u001b[0m\u001b[0m\n\u001b[1;32m    105\u001b[0m \u001b[0;34m\u001b[0m\u001b[0m\n",
            "\u001b[0;31mMessageError\u001b[0m: Error: credential propagation was unsuccessful"
          ]
        }
      ]
    },
    {
      "cell_type": "code",
      "execution_count": null,
      "metadata": {
        "id": "BHaZ28ysfc_Y",
        "outputId": "25162a2c-b8e1-4ee7-c5c2-34ec2e87faf7"
      },
      "outputs": [
        {
          "name": "stdout",
          "output_type": "stream",
          "text": [
            "INFO:tensorflow:Restoring parameters from /Users/Shayan/Desktop/StuyCS/Fifer Lab/Code/AI_ECG/SSL-ECGv2/load_model/saved_model/SSL_model.ckpt\n",
            "Pretrained ECG feature extractor model loaded!\n"
          ]
        },
        {
          "name": "stderr",
          "output_type": "stream",
          "text": [
            "2024-01-03 18:36:55.782197: I tensorflow/compiler/mlir/mlir_graph_optimization_pass.cc:357] MLIR V1 optimization pass is not enabled\n",
            "2024-01-03 18:36:55.802532: W tensorflow/tsl/platform/profile_utils/cpu_utils.cc:128] Failed to get CPU frequency: 0 Hz\n"
          ]
        }
      ],
      "source": [
        "## Load pretrained self-supervised model and ECG feature extraction model (adapted from extract_features.py)\n",
        "import os\n",
        "import tensorflow.compat.v1 as tf\n",
        "\n",
        "# To make tf 2.0 compatible with tf1.0 code, we disable the tf2.0 functionalities (source: https://github.com/tensorflow/hub/issues/350#issuecomment-568924766)\n",
        "tf.disable_eager_execution()\n",
        "\n",
        "## specify the path where model is saved\n",
        "model_path = os.path.abspath('./load_model/saved_model/')\n",
        "\n",
        "# with tf.compat.v1.Session() as sess:\n",
        "sess = tf.compat.v1.Session()\n",
        "saver = tf.compat.v1.train.import_meta_graph(model_path + \"/SSL_model.ckpt.meta\")\n",
        "new_saver = saver.restore(sess, tf.train.latest_checkpoint(model_path))\n",
        "graph = tf.compat.v1.get_default_graph()\n",
        "\n",
        "input_tensor       = graph.get_tensor_by_name(\"input:0\")\n",
        "drop_out           = graph.get_tensor_by_name(\"Drop_out:0\")\n",
        "isTrain            = graph.get_tensor_by_name(name = 'isTrain:0')\n",
        "\n",
        "conv1              = graph.get_tensor_by_name(name = 'conv_layer_1/kernel:0') #output after conv layer 1\n",
        "conv2              = graph.get_tensor_by_name(name = 'conv_layer_2/kernel:0') #output after conv layer 2\n",
        "flat_layer1        = graph.get_tensor_by_name(name = 'flat_layer1/Reshape:0') #output after conv layer 1\n",
        "conv3              = graph.get_tensor_by_name(name = 'conv_layer_3/kernel:0') #output after conv layer 3\n",
        "conv4              = graph.get_tensor_by_name(name = 'conv_layer_4/kernel:0') #output after conv layer 4\n",
        "flat_layer2        = graph.get_tensor_by_name(name = 'flat_layer2/Reshape:0') #output after conv layer 2\n",
        "conv5              = graph.get_tensor_by_name(name = 'conv_layer_5/kernel:0') #output after conv layer 5\n",
        "conv6              = graph.get_tensor_by_name(name = 'conv_layer_6/kernel:0') #output after conv layer 6\n",
        "flat_layer3        = graph.get_tensor_by_name(name = 'flat_layer3/Reshape:0') #output after conv block 3\n",
        "\n",
        "main_branch        = graph.get_tensor_by_name(name = 'flat_layer/Reshape:0') #output after all conv layers (ECG feature extractor)\n",
        "\n",
        "print('Pretrained ECG feature extractor model loaded!')"
      ]
    },
    {
      "cell_type": "code",
      "execution_count": null,
      "metadata": {
        "id": "bo_EMs40fc_b"
      },
      "outputs": [],
      "source": [
        "## Now load sample ECG data and make predictions on it (adapted from felicity.py)\n",
        "# NOTE: This data was exported in a very specific format (where final_Om corresponds to the decomposed MATERNAL ECG signal)\n",
        "# feel free to edit the code below to load your own data, or email me at sc4040@columbia.edu if you have any questions! :)\n",
        "import pickle\n",
        "import pandas as pd\n",
        "import numpy as np\n",
        "import sys\n",
        "sys.path.insert(0, './codes')\n",
        "import preprocessing\n",
        "import utils\n",
        "\n",
        "# Load mat file\n",
        "data_dict = pickle.load(open('./sample_ECG_data.pkl', 'rb'))\n",
        "\n",
        "# Convert to pandas dataframe\n",
        "df = pd.DataFrame.from_dict(data_dict)\n",
        "\n",
        "# Preprocess ECG signals before passing to model (downsample, filter, normalize)\n",
        "fs_og = 1000 # Original sampling frequency of ECG data collected\n",
        "fs_new = 256 # Sampling frequency model was trained on\n",
        "\n",
        "def normalize(x):\n",
        "    \"\"\"perform z-score normalization of a signal \"\"\"\n",
        "    temp = np.sort(x)\n",
        "    x_std = np.std(temp[int(0.025*temp.shape[0]) : int(0.975*temp.shape[0])])\n",
        "    x_mean = np.mean(temp)\n",
        "    x_scaled = (x-x_mean)/x_std\n",
        "    return x_scaled\n",
        "\n",
        "def ecg_preprocess(sig, old_sampling_freq, new_sampling_freq):\n",
        "    sig = utils.downsample(sig, old_sampling_freq, new_sampling_freq).reshape(-1, )\n",
        "    sig = preprocessing.filter_ecg(sig, new_sampling_freq)\n",
        "    sig = normalize(sig)\n",
        "    return sig\n",
        "df['final_Om'] = df['final_Om'].apply(lambda x: ecg_preprocess(x[0], fs_og, fs_new))\n",
        "\n",
        "# Drop first and last minute (often noisy)\n",
        "df = df[1:len(df)-1].dropna().reset_index(drop=True)"
      ]
    },
    {
      "cell_type": "code",
      "execution_count": null,
      "metadata": {
        "id": "cK_3HOPifc_b",
        "outputId": "614edb61-c2aa-46c9-aeda-2daa22194219"
      },
      "outputs": [
        {
          "data": {
            "text/html": [
              "<div>\n",
              "<style scoped>\n",
              "    .dataframe tbody tr th:only-of-type {\n",
              "        vertical-align: middle;\n",
              "    }\n",
              "\n",
              "    .dataframe tbody tr th {\n",
              "        vertical-align: top;\n",
              "    }\n",
              "\n",
              "    .dataframe thead th {\n",
              "        text-align: right;\n",
              "    }\n",
              "</style>\n",
              "<table border=\"1\" class=\"dataframe\">\n",
              "  <thead>\n",
              "    <tr style=\"text-align: right;\">\n",
              "      <th></th>\n",
              "      <th>final_file_names</th>\n",
              "      <th>final_start_times</th>\n",
              "      <th>final_Of</th>\n",
              "      <th>final_Om</th>\n",
              "      <th>final_aECG</th>\n",
              "      <th>final_og_ECG</th>\n",
              "      <th>final_SQI</th>\n",
              "      <th>final_chs_used</th>\n",
              "      <th>final_proc_time</th>\n",
              "      <th>final_sleep_states</th>\n",
              "    </tr>\n",
              "  </thead>\n",
              "  <tbody>\n",
              "    <tr>\n",
              "      <th>0</th>\n",
              "      <td>test_file</td>\n",
              "      <td>0</td>\n",
              "      <td>[7.12164608583286, 7.801855060636188, 8.274811...</td>\n",
              "      <td>[-0.017180917168253346, -0.03436775353827228, ...</td>\n",
              "      <td>[-1.7790034720064152, -2.590170042677108, -3.2...</td>\n",
              "      <td>[8337.592866969302, 8337.366196959572, 8337.06...</td>\n",
              "      <td>0.8</td>\n",
              "      <td>[1.0, 3.0]</td>\n",
              "      <td>13.820324</td>\n",
              "      <td>i</td>\n",
              "    </tr>\n",
              "    <tr>\n",
              "      <th>1</th>\n",
              "      <td>test_file</td>\n",
              "      <td>10</td>\n",
              "      <td>[-7.498322353963891, -7.141686154049773, -6.86...</td>\n",
              "      <td>[-0.1684211934766956, -0.45540867073983116, -0...</td>\n",
              "      <td>[-15.655389714339996, -25.934715321127882, -34...</td>\n",
              "      <td>[8326.218937893453, 8314.608600983256, 8302.28...</td>\n",
              "      <td>0.8</td>\n",
              "      <td>[1.0, 3.0]</td>\n",
              "      <td>27.640649</td>\n",
              "      <td>i</td>\n",
              "    </tr>\n",
              "    <tr>\n",
              "      <th>2</th>\n",
              "      <td>test_file</td>\n",
              "      <td>20</td>\n",
              "      <td>[-2.416766177733244, -1.6433334272640763, -0.6...</td>\n",
              "      <td>[0.11992022643324728, 0.2821730921004684, 0.33...</td>\n",
              "      <td>[-55.83795429164496, -54.82353251250892, -53.0...</td>\n",
              "      <td>[8517.441759333085, 8516.68387795531, 8514.523...</td>\n",
              "      <td>0.8</td>\n",
              "      <td>[1.0, 3.0]</td>\n",
              "      <td>41.460973</td>\n",
              "      <td>i</td>\n",
              "    </tr>\n",
              "    <tr>\n",
              "      <th>3</th>\n",
              "      <td>test_file</td>\n",
              "      <td>30</td>\n",
              "      <td>[-0.20075298076584305, 0.06459342571736132, 0....</td>\n",
              "      <td>[0.348067612069372, 0.17806825355252215, 0.160...</td>\n",
              "      <td>[79.11330151968231, 93.62741590922681, 107.807...</td>\n",
              "      <td>[8427.43308770551, 8451.533118039177, 8470.504...</td>\n",
              "      <td>0.8</td>\n",
              "      <td>[1.0, 3.0]</td>\n",
              "      <td>55.281297</td>\n",
              "      <td>i</td>\n",
              "    </tr>\n",
              "    <tr>\n",
              "      <th>4</th>\n",
              "      <td>test_file</td>\n",
              "      <td>40</td>\n",
              "      <td>[2.439097424423262, 2.1438380230963983, 2.0423...</td>\n",
              "      <td>[0.35769210040333105, 0.30207878089933127, 0.3...</td>\n",
              "      <td>[-10.999170388228695, -13.44490660203352, -14....</td>\n",
              "      <td>[8316.772105010125, 8315.739924421014, 8314.84...</td>\n",
              "      <td>0.8</td>\n",
              "      <td>[1.0, 3.0]</td>\n",
              "      <td>69.101622</td>\n",
              "      <td>i</td>\n",
              "    </tr>\n",
              "    <tr>\n",
              "      <th>...</th>\n",
              "      <td>...</td>\n",
              "      <td>...</td>\n",
              "      <td>...</td>\n",
              "      <td>...</td>\n",
              "      <td>...</td>\n",
              "      <td>...</td>\n",
              "      <td>...</td>\n",
              "      <td>...</td>\n",
              "      <td>...</td>\n",
              "      <td>...</td>\n",
              "    </tr>\n",
              "    <tr>\n",
              "      <th>337</th>\n",
              "      <td>test_file</td>\n",
              "      <td>3370</td>\n",
              "      <td>[-1.5558917593792208, -1.495934465030556, -1.7...</td>\n",
              "      <td>[-0.2634387841741585, -0.19436572791001783, -0...</td>\n",
              "      <td>[26.553594254612957, 27.08988333800102, 22.460...</td>\n",
              "      <td>[8296.238477329354, 8293.941262748891, 8292.81...</td>\n",
              "      <td>1.0</td>\n",
              "      <td>[2.0, 3.0]</td>\n",
              "      <td>64055.781608</td>\n",
              "      <td>i</td>\n",
              "    </tr>\n",
              "    <tr>\n",
              "      <th>338</th>\n",
              "      <td>test_file</td>\n",
              "      <td>3380</td>\n",
              "      <td>[-0.9240080289742033, -0.9125807608192131, -0....</td>\n",
              "      <td>[0.0015545919277595353, -0.04467615088039123, ...</td>\n",
              "      <td>[-76.34915725093992, -72.19619548410839, -63.5...</td>\n",
              "      <td>[8362.752251724418, 8375.284774447995, 8383.65...</td>\n",
              "      <td>1.0</td>\n",
              "      <td>[2.0, 3.0]</td>\n",
              "      <td>64434.505237</td>\n",
              "      <td>i</td>\n",
              "    </tr>\n",
              "    <tr>\n",
              "      <th>339</th>\n",
              "      <td>test_file</td>\n",
              "      <td>3390</td>\n",
              "      <td>[-2.152052610202669, -2.196399271209707, -2.24...</td>\n",
              "      <td>[0.5462650193492568, 0.22870628196229317, -0.1...</td>\n",
              "      <td>[92.56539146918223, 86.53738073593752, 83.1737...</td>\n",
              "      <td>[8454.310913633872, 8453.737465410984, 8452.83...</td>\n",
              "      <td>1.0</td>\n",
              "      <td>[2.0, 3.0]</td>\n",
              "      <td>64813.228867</td>\n",
              "      <td>i</td>\n",
              "    </tr>\n",
              "    <tr>\n",
              "      <th>340</th>\n",
              "      <td>test_file</td>\n",
              "      <td>3400</td>\n",
              "      <td>[0.6041972386128083, 0.8057061930301144, -0.62...</td>\n",
              "      <td>[-0.2715881504403629, -0.39604985171131185, -0...</td>\n",
              "      <td>[7.713901715045253, 4.474690079444633, -2.0823...</td>\n",
              "      <td>[8292.894808206718, 8298.651716755267, 8306.75...</td>\n",
              "      <td>1.0</td>\n",
              "      <td>[2.0, 3.0]</td>\n",
              "      <td>65191.952497</td>\n",
              "      <td>i</td>\n",
              "    </tr>\n",
              "    <tr>\n",
              "      <th>341</th>\n",
              "      <td>test_file</td>\n",
              "      <td>3410</td>\n",
              "      <td>[0.5123917285098631, 0.4190676280966951, 0.273...</td>\n",
              "      <td>[4.309178607552033, 3.583478007201355, 3.04340...</td>\n",
              "      <td>[2.178748648371235, 1.1677273193414361, -0.949...</td>\n",
              "      <td>[8349.888771314847, 8350.313831834323, 8350.52...</td>\n",
              "      <td>1.0</td>\n",
              "      <td>[2.0, 3.0]</td>\n",
              "      <td>65570.676126</td>\n",
              "      <td>i</td>\n",
              "    </tr>\n",
              "  </tbody>\n",
              "</table>\n",
              "<p>342 rows × 10 columns</p>\n",
              "</div>"
            ],
            "text/plain": [
              "    final_file_names  final_start_times  \\\n",
              "0          test_file                  0   \n",
              "1          test_file                 10   \n",
              "2          test_file                 20   \n",
              "3          test_file                 30   \n",
              "4          test_file                 40   \n",
              "..               ...                ...   \n",
              "337        test_file               3370   \n",
              "338        test_file               3380   \n",
              "339        test_file               3390   \n",
              "340        test_file               3400   \n",
              "341        test_file               3410   \n",
              "\n",
              "                                              final_Of  \\\n",
              "0    [7.12164608583286, 7.801855060636188, 8.274811...   \n",
              "1    [-7.498322353963891, -7.141686154049773, -6.86...   \n",
              "2    [-2.416766177733244, -1.6433334272640763, -0.6...   \n",
              "3    [-0.20075298076584305, 0.06459342571736132, 0....   \n",
              "4    [2.439097424423262, 2.1438380230963983, 2.0423...   \n",
              "..                                                 ...   \n",
              "337  [-1.5558917593792208, -1.495934465030556, -1.7...   \n",
              "338  [-0.9240080289742033, -0.9125807608192131, -0....   \n",
              "339  [-2.152052610202669, -2.196399271209707, -2.24...   \n",
              "340  [0.6041972386128083, 0.8057061930301144, -0.62...   \n",
              "341  [0.5123917285098631, 0.4190676280966951, 0.273...   \n",
              "\n",
              "                                              final_Om  \\\n",
              "0    [-0.017180917168253346, -0.03436775353827228, ...   \n",
              "1    [-0.1684211934766956, -0.45540867073983116, -0...   \n",
              "2    [0.11992022643324728, 0.2821730921004684, 0.33...   \n",
              "3    [0.348067612069372, 0.17806825355252215, 0.160...   \n",
              "4    [0.35769210040333105, 0.30207878089933127, 0.3...   \n",
              "..                                                 ...   \n",
              "337  [-0.2634387841741585, -0.19436572791001783, -0...   \n",
              "338  [0.0015545919277595353, -0.04467615088039123, ...   \n",
              "339  [0.5462650193492568, 0.22870628196229317, -0.1...   \n",
              "340  [-0.2715881504403629, -0.39604985171131185, -0...   \n",
              "341  [4.309178607552033, 3.583478007201355, 3.04340...   \n",
              "\n",
              "                                            final_aECG  \\\n",
              "0    [-1.7790034720064152, -2.590170042677108, -3.2...   \n",
              "1    [-15.655389714339996, -25.934715321127882, -34...   \n",
              "2    [-55.83795429164496, -54.82353251250892, -53.0...   \n",
              "3    [79.11330151968231, 93.62741590922681, 107.807...   \n",
              "4    [-10.999170388228695, -13.44490660203352, -14....   \n",
              "..                                                 ...   \n",
              "337  [26.553594254612957, 27.08988333800102, 22.460...   \n",
              "338  [-76.34915725093992, -72.19619548410839, -63.5...   \n",
              "339  [92.56539146918223, 86.53738073593752, 83.1737...   \n",
              "340  [7.713901715045253, 4.474690079444633, -2.0823...   \n",
              "341  [2.178748648371235, 1.1677273193414361, -0.949...   \n",
              "\n",
              "                                          final_og_ECG final_SQI  \\\n",
              "0    [8337.592866969302, 8337.366196959572, 8337.06...       0.8   \n",
              "1    [8326.218937893453, 8314.608600983256, 8302.28...       0.8   \n",
              "2    [8517.441759333085, 8516.68387795531, 8514.523...       0.8   \n",
              "3    [8427.43308770551, 8451.533118039177, 8470.504...       0.8   \n",
              "4    [8316.772105010125, 8315.739924421014, 8314.84...       0.8   \n",
              "..                                                 ...       ...   \n",
              "337  [8296.238477329354, 8293.941262748891, 8292.81...       1.0   \n",
              "338  [8362.752251724418, 8375.284774447995, 8383.65...       1.0   \n",
              "339  [8454.310913633872, 8453.737465410984, 8452.83...       1.0   \n",
              "340  [8292.894808206718, 8298.651716755267, 8306.75...       1.0   \n",
              "341  [8349.888771314847, 8350.313831834323, 8350.52...       1.0   \n",
              "\n",
              "    final_chs_used  final_proc_time final_sleep_states  \n",
              "0       [1.0, 3.0]        13.820324                  i  \n",
              "1       [1.0, 3.0]        27.640649                  i  \n",
              "2       [1.0, 3.0]        41.460973                  i  \n",
              "3       [1.0, 3.0]        55.281297                  i  \n",
              "4       [1.0, 3.0]        69.101622                  i  \n",
              "..             ...              ...                ...  \n",
              "337     [2.0, 3.0]     64055.781608                  i  \n",
              "338     [2.0, 3.0]     64434.505237                  i  \n",
              "339     [2.0, 3.0]     64813.228867                  i  \n",
              "340     [2.0, 3.0]     65191.952497                  i  \n",
              "341     [2.0, 3.0]     65570.676126                  i  \n",
              "\n",
              "[342 rows x 10 columns]"
            ]
          },
          "execution_count": 21,
          "metadata": {},
          "output_type": "execute_result"
        }
      ],
      "source": [
        "# Split into 10 second segments instead of 60 (since that's what the model was trained on)\n",
        "data_splits = [] # List of dictionaries, each dictionary contains 10 second segment of ECG and corresponding labels\n",
        "prev_seg_proc_time = 0 # Keep track of processing time for each segment\n",
        "for index, row in df.iterrows(): # Yes, not the most efficient way to do this, but it works and is readable!\n",
        "    for i in range(6):\n",
        "        seg_proc_time = prev_seg_proc_time + row['final_proc_time'][0] / 6\n",
        "        data_splits.append({\n",
        "            'final_file_names': row['final_file_names'][0],\n",
        "            'final_start_times': (index * 60) + i * 10,\n",
        "            'final_Of': row['final_Of'][0][i*10*fs_new : (i+1)*10*fs_new],\n",
        "            'final_Om': row['final_Om'][i*10*fs_new : (i+1)*10*fs_new],\n",
        "            'final_aECG': row['final_aECG'][0][i*10*fs_new : (i+1)*10*fs_new],\n",
        "            'final_og_ECG': row['final_og_ECG'][0][0][i*10*fs_new : (i+1)*10*fs_new],\n",
        "            'final_SQI': row['final_SQI'][0],\n",
        "            'final_chs_used': row['final_chs_used'][0],\n",
        "            # 'final_fbeats',\n",
        "            # 'final_mbeats',\n",
        "            'final_proc_time': seg_proc_time,\n",
        "            'final_sleep_states': row['final_sleep_states'][0],\n",
        "        })\n",
        "        prev_seg_proc_time = seg_proc_time\n",
        "\n",
        "df_split = pd.DataFrame(data_splits)\n",
        "df_split"
      ]
    },
    {
      "cell_type": "code",
      "execution_count": null,
      "metadata": {
        "id": "Te1j-0d8fc_c",
        "outputId": "ca07dbe3-e025-4954-837e-f6623e1224e0"
      },
      "outputs": [
        {
          "data": {
            "text/plain": [
              "<matplotlib.legend.Legend at 0x1075ced60>"
            ]
          },
          "execution_count": 6,
          "metadata": {},
          "output_type": "execute_result"
        },
        {
          "data": {
            "image/png": "[encoded data removed]",
            "text/plain": [
              "<Figure size 640x480 with 1 Axes>"
            ]
          },
          "metadata": {},
          "output_type": "display_data"
        }
      ],
      "source": [
        "# Plot one of the new 10s ECG segments\n",
        "import matplotlib.pyplot as plt\n",
        "idx = 1\n",
        "sig_saver = df_split.iloc[idx]['final_Om'] # Reminder: only using the maternal ECG signal\n",
        "plt.plot(sig_saver, label=\"SAVER\")\n",
        "plt.xlabel('Time (Samples)')\n",
        "plt.ylabel('Relative Amplitude (mV)')\n",
        "plt.legend()"
      ]
    },
    {
      "cell_type": "code",
      "execution_count": null,
      "metadata": {
        "colab": {
          "referenced_widgets": [
            "5fd7a961ebc140cb9d844918520928cf"
          ]
        },
        "id": "nW-6iCQSfc_d",
        "outputId": "ae3d2a50-9071-4bf4-f6d1-e97732f5cb5b"
      },
      "outputs": [
        {
          "data": {
            "application/vnd.jupyter.widget-view+json": {
              "model_id": "5fd7a961ebc140cb9d844918520928cf",
              "version_major": 2,
              "version_minor": 0
            },
            "text/plain": [
              "  0%|          | 0/86 [00:00<?, ?it/s]"
            ]
          },
          "metadata": {},
          "output_type": "display_data"
        }
      ],
      "source": [
        "## Use the pretrained model to extract features from the entire maternal ECG signal\n",
        "from tqdm.auto import tqdm\n",
        "batch_size = 4\n",
        "\n",
        "# Calculate the length of sample ecg file (number of rows)\n",
        "length = len(df_split)\n",
        "# Initialize an array to save extracted features\n",
        "feature_set = np.zeros((1, main_branch.get_shape()[1]), dtype=int)\n",
        "steps = length // batch_size + 1\n",
        "\n",
        "for j in tqdm(range(steps)):\n",
        "    # Get batch\n",
        "    signal_batch = df_split['final_Om'][\n",
        "        np.mod(np.arange(j * batch_size, (j + 1) * batch_size), length)\n",
        "    ]\n",
        "    signal_batch = np.vstack(signal_batch)\n",
        "    # signal_batch = signal_batch.reshape(-1, fs_new * 10)\n",
        "    # Reshape to feed into 1D conv layers\n",
        "    signal_batch = np.expand_dims(signal_batch, 2)\n",
        "\n",
        "    # Fetch output from last conv layer\n",
        "    fetches = [main_branch]\n",
        "    fetched = sess.run(\n",
        "        fetches, {input_tensor: signal_batch, isTrain: False, drop_out: 0.0}\n",
        "    )\n",
        "    stacked = fetched[0]\n",
        "\n",
        "    # stacking extracted features\n",
        "    feature_set = np.vstack((feature_set, stacked))\n",
        "\n",
        "# Removing the first row of zeros\n",
        "x_ecg_feature = feature_set[1 : length + 1]"
      ]
    },
    {
      "cell_type": "code",
      "execution_count": null,
      "metadata": {
        "id": "Ix1LGD1Dfc_d",
        "outputId": "400e945b-58ab-45a8-c6d6-8a825bb94852"
      },
      "outputs": [
        {
          "name": "stdout",
          "output_type": "stream",
          "text": [
            "Number of maternal ECG segments: 342\n",
            "Shape of extracted features: (342, 128)\n"
          ]
        }
      ],
      "source": [
        "# Just to check that the number of segments and features are correct\n",
        "print(f\"Number of maternal ECG segments: {df_split['final_Om'].shape[0]}\")\n",
        "print(f\"Shape of extracted features: {x_ecg_feature.shape}\")"
      ]
    }
  ],
  "metadata": {
    "kernelspec": {
      "display_name": "SSL",
      "language": "python",
      "name": "python3"
    },
    "language_info": {
      "codemirror_mode": {
        "name": "ipython",
        "version": 3
      },
      "file_extension": ".py",
      "mimetype": "text/x-python",
      "name": "python",
      "nbconvert_exporter": "python",
      "pygments_lexer": "ipython3",
      "version": "3.8.18"
    },
    "colab": {
      "provenance": [],
      "include_colab_link": true
    }
  },
  "nbformat": 4,
  "nbformat_minor": 0
}